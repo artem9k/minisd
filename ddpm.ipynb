{
 "cells": [
  {
   "cell_type": "code",
   "execution_count": 1,
   "id": "ce560e49",
   "metadata": {},
   "outputs": [],
   "source": [
    "import math\n",
    "import torch\n",
    "from torch import nn\n",
    "import torchvision\n",
    "import torchvision.transforms as transforms\n",
    "from torchvision.datasets import CIFAR10\n",
    "from torch.utils.data import DataLoader\n",
    "import matplotlib.pyplot as plt"
   ]
  },
  {
   "cell_type": "code",
   "execution_count": 2,
   "id": "a28ca3fd",
   "metadata": {},
   "outputs": [],
   "source": [
    "NUM_STEPS = 50\n",
    "SHAPE = (1, 3, 32, 32)\n",
    "LATENT_SHAPE = (1, 2, 3)\n",
    "def noise(x, beta):\n",
    "    x = x * torch.normal(mean=sqrt_beta)\n",
    "def generate_random_noise():\n",
    "    return torch.normal(mean=0., std=torch.ones(SHAPE))\n",
    "def create_betas():\n",
    "    beta = 1\n",
    "    betas = []\n",
    "    for i in range(NUM_STEPS):\n",
    "        betas.append(beta / NUM_STEPS)\n",
    "    return betas\n",
    "# reverse process:\n",
    "class DDPM(nn.Module):\n",
    "    def __init__(self):\n",
    "        super(DDPM, self).__init__()\n",
    "        self.mu = nn.Parameter(torch.tensor(LATENT_SHAPE, dtype=torch.float64))\n",
    "        self.sigma = nn.Parameter(torch.tensor(LATENT_SHAPE, dtype=torch.float64))\n",
    "    # forward process\n",
    "    def _forward():\n",
    "        x = generate_random_noise()\n",
    "        betas = create_betas()\n",
    "        for i in range(NUM_STEPS - 1):\n",
    "            beta = betas[i]\n",
    "            sqrt_beta = math.sqrt(1 - beta)\n",
    "            x *= torch.normal(mean=sqrt_beta*x, std=beta, shape=SHAPE)\n",
    "        return x\n",
    "    def _reverse(x): \n",
    "        mu = torch.Parameter(shape=LATENT_SHAPE)\n",
    "        sigma = torch.Parameter(shape=LATENT_SHAPE)\n",
    "        for i in range(NUM_STEPS):\n",
    "            x *= torch.normal(mean=mu, std=sigma, shape=SHAPE)\n",
    "        return x\n",
    "    def forward(x):\n",
    "        return x"
   ]
  },
  {
   "cell_type": "code",
   "execution_count": 3,
   "id": "ee36a018",
   "metadata": {},
   "outputs": [],
   "source": [
    "class UNet(nn.Module):\n",
    "    def __init__(self):\n",
    "        super(UNet, self).__init__()\n",
    "        \n",
    "        self.input_shape = (1, 3, 32, 32)\n",
    "        self.output_shape = (1, 3, 32, 32)\n",
    "\n",
    "        self.conv1 = torch.nn.Conv2d(3, 3, 3, padding=1)\n",
    "        self.conv2 = torch.nn.Conv2d(3, 3, 3, padding=1)\n",
    "    \n",
    "    def forward(self, x, t):\n",
    "        # later: use attn to condition on the timestep\n",
    "        # the conditioning can also be on other stuff, like a text prompt\n",
    "        print(x.shape)\n",
    "        x = self.conv1(x)\n",
    "        x = self.conv2(x)\n",
    "        \n",
    "        return x"
   ]
  },
  {
   "cell_type": "code",
   "execution_count": 4,
   "id": "fc4c1204",
   "metadata": {},
   "outputs": [],
   "source": [
    "# HELPER FUNCTIONS\n",
    "\n",
    "def remove_labels(ds):\n",
    "    return list(map(lambda x: x[0], ds))\n",
    "\n",
    "def totensor_ds(ds):\n",
    "    t = transforms.ToTensor()\n",
    "    return list(map(lambda x: t(x), ds))\n",
    "\n",
    "def make_diffusion_dataset(ds):\n",
    "    im = []\n",
    "    t = torchvision.transforms.ToTensor()\n",
    "    for img, label in ds:\n",
    "        im.append(t(img))\n",
    "    im = im[:10]\n",
    "    for i, img in enumerate(im):\n",
    "        noise_list = noise(img)\n",
    "        im[i] = [img]\n",
    "        #[im[i].append(a) for a in noise_list]\n",
    "    return im\n",
    "\n",
    "# perform a sequence of noising steps on an image. Then, generalize it to n noising steps (Apply combined product)\n",
    "def noise(img):\n",
    "    beta = 0.4\n",
    "    sqrt_beta = math.sqrt(1 - beta)\n",
    "    img = img * torch.normal(img * sqrt_beta, beta)\n",
    "    return img\n",
    "\n",
    "# noise an image for n steps\n",
    "def noise_n_steps(img, betas, n):\n",
    "    img = torch.clone(img)\n",
    "    \n",
    "    for b, i in zip(betas, range(n)):\n",
    "        beta = b\n",
    "        sqrt_beta = (1 - beta) ** 0.5\n",
    "        img *= torch.normal(img * sqrt_beta, beta) #torch.ones(img.shape) * sqrt_beta, beta)\n",
    "    return img\n",
    "\n",
    "# noise an image for 1 step, given beta\n",
    "def noise_1_step(img, beta):\n",
    "    sqrt_beta = math.sqrt(1 - beta)\n",
    "    img *= torch.normal(torch.ones(img.shape) * sqrt_beta, beta)\n",
    "    \n",
    "# closed form sampling for the noise using alpha param\n",
    "def noise_nth_step(img, betas, t):\n",
    "    alphas_cumprod = 1\n",
    "    for i in range(t):\n",
    "        alpha = 1 - betas[i]\n",
    "        alphas_cumprod *= alpha\n",
    "    return torch.normal(img * math.sqrt(alphas_cumprod), 1 - alphas_cumprod)\n",
    "\n",
    "def noise_alpha(img, betas, t):\n",
    "    alpha = torch.prod(1 - betas[:t])\n",
    "    return torch.normal(img * (alpha ** 0.5), (1 - alpha))\n",
    "\n",
    "# single loss update using KL divergence\n",
    "# KL is the distance between probability of distributions p and q \n",
    "def loss_update(q_t0, p_xt, p_01):\n",
    "    return\n",
    "\n",
    "# calculate alpha at a certain timestep t\n",
    "def calculate_alpha(betas, t):\n",
    "    print(t)\n",
    "    return torch.prod(1 - betas[:t])\n",
    "\n",
    "def linear_beta_schedule(num_timesteps):\n",
    "    scale = 1000 / num_timesteps\n",
    "    beta_start = scale * 0.0001\n",
    "    beta_end = scale * 0.02\n",
    "    return torch.linspace(beta_start, beta_end, num_timesteps, dtype=torch.float64)\n",
    "\n",
    "def fake_normalize(t: torch.Tensor):\n",
    "    return (t - torch.mean(t)) / torch.var(t)"
   ]
  },
  {
   "cell_type": "code",
   "execution_count": 5,
   "id": "2e238fe9-df8b-4014-9486-e5c40fe5f7fc",
   "metadata": {},
   "outputs": [],
   "source": [
    "class EpsModel():\n",
    "    def __init__(self):\n",
    "        pass\n",
    "    \n",
    "class DiffusionTrainer():\n",
    "    def __init__(self):\n",
    "        pass"
   ]
  },
  {
   "cell_type": "code",
   "execution_count": 6,
   "id": "a3f5443f-f2fb-408d-8432-6794e25fdb44",
   "metadata": {},
   "outputs": [],
   "source": [
    "class DiffusionModel():\n",
    "    \n",
    "    def __init__(self, eps_model, epochs=10, train_steps_per_epoch=-1):\n",
    "        \n",
    "        self.epochs = epochs\n",
    "        self.train_steps = train_steps_per_epoch # -1 just means don't interrupt\n",
    "        self.cum_loss = []\n",
    "        self.eps_model = eps_model\n",
    "        \n",
    "        if beta_schedule is not None:\n",
    "            self.beta_schedule = beta_schedule\n",
    "        else:\n",
    "            self.beta_schedule = linear_beta_schedule\n",
    "    \n",
    "    def log(self, loss):\n",
    "        self.cum_loss.append(n_iter, n_epoch, loss.numel())\n",
    "        \n",
    "    def calculate_loss(self, x_start, t):\n",
    "        # apparently the noise isnt scaled or anything\n",
    "        noise = torch.randn_like(x_start)\n",
    "        \n",
    "    # TRAINING LOOP\n",
    "    def _train(dataset, eps_model, epochs=10, train_steps_per_epoch=-1):    \n",
    "        img_shape = (1, 3, 32, 32)\n",
    "        epochs = 10\n",
    "        betas = linear_beta_schedule(n_noise_steps)\n",
    "        optim = torch.optim.Adam(eps_model.parameters()) # we leave default params\n",
    "        loss_fn = torch.nn.MSELoss()\n",
    "\n",
    "        for epoch in range(epochs):\n",
    "            for i, img in enumerate(dataset):\n",
    "\n",
    "                if train_steps_per_epoch != -1:\n",
    "                    if i == train_steps_per_epoch:\n",
    "                        return \n",
    "\n",
    "                t = torch.randint(0, NUM_STEPS, (1,))[0]\n",
    "                x_0 = img\n",
    "                alpha = calculate_alpha(betas, t)\n",
    "                eps = torch.randn_like(img)\n",
    "                #eps = torch.normal(torch.zeros(img_shape), 1)\n",
    "                loss = loss_fn(eps, eps_model(x_0, t)) \n",
    "                \n",
    "                loss.backward()\n",
    "                optim.step()\n",
    "\n",
    "    def _sample(self, eps_model, num_steps=50):\n",
    "        img_shape = (1, 3, 32, 32)\n",
    "        betas = linear_beta_schedule(n_noise_steps)\n",
    "        x = torch.normal(torch.zeros(img_shape), 1)\n",
    "        for t in range(0, num_steps, -1):\n",
    "            sig = alpha ** 2\n",
    "            x = (1 / alpha) * (x - ((1 - alpha) / ((1 - alpha) ** 2)) * eps_model(x, t))\n",
    "\n",
    "        return x"
   ]
  },
  {
   "cell_type": "code",
   "execution_count": null,
   "id": "5c559564-f7d3-482a-9e02-bda37ce0a55f",
   "metadata": {},
   "outputs": [],
   "source": []
  },
  {
   "cell_type": "code",
   "execution_count": 7,
   "id": "9932b291-bb82-45d9-98ee-c00d654e29d5",
   "metadata": {},
   "outputs": [
    {
     "name": "stdout",
     "output_type": "stream",
     "text": [
      "Files already downloaded and verified\n"
     ]
    }
   ],
   "source": [
    "ds = torchvision.datasets.CIFAR10(download=True, root=\".\")\n",
    "diffusion_ds = remove_labels(ds)\n",
    "diffusion_ds = totensor_ds(diffusion_ds)"
   ]
  },
  {
   "cell_type": "code",
   "execution_count": 247,
   "id": "a7369ad5-0db1-43e2-82a7-83b002197621",
   "metadata": {},
   "outputs": [
    {
     "ename": "TypeError",
     "evalue": "__init__() missing 1 required positional argument: 'eps_model'",
     "output_type": "error",
     "traceback": [
      "\u001b[0;31m---------------------------------------------------------------------------\u001b[0m",
      "\u001b[0;31mTypeError\u001b[0m                                 Traceback (most recent call last)",
      "\u001b[0;32m<ipython-input-247-fe4e761facc3>\u001b[0m in \u001b[0;36m<module>\u001b[0;34m\u001b[0m\n\u001b[1;32m      1\u001b[0m \u001b[0meps_model\u001b[0m \u001b[0;34m=\u001b[0m \u001b[0mUNet\u001b[0m\u001b[0;34m(\u001b[0m\u001b[0;34m)\u001b[0m\u001b[0;34m\u001b[0m\u001b[0;34m\u001b[0m\u001b[0m\n\u001b[0;32m----> 2\u001b[0;31m \u001b[0mdiffusion\u001b[0m \u001b[0;34m=\u001b[0m \u001b[0mDiffusionModel\u001b[0m\u001b[0;34m(\u001b[0m\u001b[0;34m)\u001b[0m\u001b[0;34m\u001b[0m\u001b[0;34m\u001b[0m\u001b[0m\n\u001b[0m\u001b[1;32m      3\u001b[0m \u001b[0mdiffusion\u001b[0m\u001b[0;34m.\u001b[0m\u001b[0m_sample\u001b[0m\u001b[0;34m(\u001b[0m\u001b[0meps_model\u001b[0m\u001b[0;34m)\u001b[0m\u001b[0;34m\u001b[0m\u001b[0;34m\u001b[0m\u001b[0m\n\u001b[1;32m      4\u001b[0m \u001b[0;31m#diffusion_sample(eps_model)\u001b[0m\u001b[0;34m\u001b[0m\u001b[0;34m\u001b[0m\u001b[0;34m\u001b[0m\u001b[0m\n\u001b[1;32m      5\u001b[0m \u001b[0;31m#diffusion_train(diffusion_ds, eps_model, epochs=1, train_steps_per_epoch=10)\u001b[0m\u001b[0;34m\u001b[0m\u001b[0;34m\u001b[0m\u001b[0;34m\u001b[0m\u001b[0m\n",
      "\u001b[0;31mTypeError\u001b[0m: __init__() missing 1 required positional argument: 'eps_model'"
     ]
    }
   ],
   "source": [
    "eps_model = UNet()\n",
    "diffusion = DiffusionModel()\n",
    "diffusion._sample(eps_model)\n",
    "#diffusion_sample(eps_model)\n",
    "#diffusion_train(diffusion_ds, eps_model, epochs=1, train_steps_per_epoch=10)"
   ]
  },
  {
   "cell_type": "code",
   "execution_count": 8,
   "id": "a5f0a04b-53c9-4232-aa75-453e0f534bac",
   "metadata": {},
   "outputs": [],
   "source": [
    "\"\"\"\n",
    "Some notes from lucidrains impl\n",
    "\n",
    "\"\"\""
   ]
  },
  {
   "cell_type": "code",
   "execution_count": 9,
   "id": "ca8003e3-de63-4758-b053-219ea82996c8",
   "metadata": {},
   "outputs": [
    {
     "name": "stderr",
     "output_type": "stream",
     "text": [
      "Clipping input data to the valid range for imshow with RGB data ([0..1] for floats or [0..255] for integers).\n",
      "Clipping input data to the valid range for imshow with RGB data ([0..1] for floats or [0..255] for integers).\n",
      "Clipping input data to the valid range for imshow with RGB data ([0..1] for floats or [0..255] for integers).\n",
      "Clipping input data to the valid range for imshow with RGB data ([0..1] for floats or [0..255] for integers).\n"
     ]
    },
    {
     "data": {
      "text/plain": [
       "<matplotlib.image.AxesImage at 0x7fc2430b0940>"
      ]
     },
     "execution_count": 9,
     "metadata": {},
     "output_type": "execute_result"
    },
    {
     "data": {
      "image/png": "[encoded data removed]",
      "text/plain": [
       "<Figure size 576x576 with 4 Axes>"
      ]
     },
     "metadata": {
      "needs_background": "light"
     },
     "output_type": "display_data"
    }
   ],
   "source": [
    "t = transforms.Compose([transforms.ToTensor(), transforms.Normalize([0,0,0],[1,1,1])])\n",
    "\n",
    "n_noise_steps = 50\n",
    "im = t(ds[0][0])\n",
    "\n",
    "betas = linear_beta_schedule(n_noise_steps)\n",
    "\n",
    "im_15 = noise_alpha(im, betas=betas, t=5)\n",
    "im_30 = noise_alpha(im, betas=betas, t=7)\n",
    "im_45 = noise_alpha(im, betas=betas, t=30)\n",
    "im_50 = noise_alpha(im, betas=betas, t=45)\n",
    "\n",
    "f, arr = plt.subplots(2, 2, figsize=(8, 8))\n",
    "arr[0,0].imshow(im_15.permute(1, 2, 0))\n",
    "arr[0,1].imshow(im_30.permute(1, 2, 0))\n",
    "arr[1,0].imshow(im_45.permute(1, 2, 0))\n",
    "arr[1,1].imshow(im_50.permute(1, 2, 0))"
   ]
  },
  {
   "cell_type": "code",
   "execution_count": null,
   "id": "1a891c81-8b4e-4bf2-bb4e-99489c8c951c",
   "metadata": {},
   "outputs": [],
   "source": [
    "# p_q array, p_theta array, p_xt last in t\n",
    "def loss_function(p_xt, p_theta, q):\n",
    "    return -log(p_xt) - torch.sum(p_theta / p_q)\n",
    "\n",
    "def training_loop_iter(model, img, t):\n",
    "    noised_img = apply_noise(img, t)\n",
    "    denoised = model(img).squeeze(0)\n",
    "    loss(denoised, img)\n",
    "    return"
   ]
  },
  {
   "cell_type": "code",
   "execution_count": null,
   "id": "7e772602-5328-4e87-8931-544cdca9f53b",
   "metadata": {},
   "outputs": [],
   "source": []
  }
 ],
 "metadata": {
  "kernelspec": {
   "display_name": "Python 3",
   "language": "python",
   "name": "python3"
  },
  "language_info": {
   "codemirror_mode": {
    "name": "ipython",
    "version": 3
   },
   "file_extension": ".py",
   "mimetype": "text/x-python",
   "name": "python",
   "nbconvert_exporter": "python",
   "pygments_lexer": "ipython3",
   "version": "3.8.0"
  }
 },
 "nbformat": 4,
 "nbformat_minor": 5
}
